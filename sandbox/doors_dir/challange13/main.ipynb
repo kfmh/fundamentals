{
 "cells": [
  {
   "cell_type": "code",
   "execution_count": 2,
   "metadata": {},
   "outputs": [],
   "source": [
    "import random\n",
    "import string\n",
    "\n",
    "def generate_random_string(length):\n",
    "    \"\"\"Generate a random string of given length\"\"\"\n",
    "    return ''.join(random.choice(string.ascii_letters) for _ in range(length))\n",
    "\n",
    "def generate_random_content():\n",
    "    \"\"\"Generate a content with random words and numbers between 100 to 1000 words\"\"\"\n",
    "    word_count = random.randint(100, 1000)\n",
    "    content = []\n",
    "    \n",
    "    for _ in range(word_count):\n",
    "        # Randomly decide whether to append a word or a number\n",
    "        if random.choice([True, False]):\n",
    "            # Append a random word (3-10 letters)\n",
    "            content.append(generate_random_string(random.randint(3, 10)))\n",
    "        else:\n",
    "            # Append a random number\n",
    "            content.append(str(random.randint(0, 10000)))\n",
    "\n",
    "    return ' '.join(content)\n",
    "\n",
    "for i in range(1, 421):\n",
    "    random_string = generate_random_string(random.randint(6, 11))\n",
    "    filename = f\"{i}_{random_string}.txt\"\n",
    "    \n",
    "    with open(filename, 'w') as file:\n",
    "        file.write(generate_random_content())\n"
   ]
  }
 ],
 "metadata": {
  "kernelspec": {
   "display_name": ".venv",
   "language": "python",
   "name": "python3"
  },
  "language_info": {
   "codemirror_mode": {
    "name": "ipython",
    "version": 3
   },
   "file_extension": ".py",
   "mimetype": "text/x-python",
   "name": "python",
   "nbconvert_exporter": "python",
   "pygments_lexer": "ipython3",
   "version": "3.11.3"
  },
  "orig_nbformat": 4
 },
 "nbformat": 4,
 "nbformat_minor": 2
}
