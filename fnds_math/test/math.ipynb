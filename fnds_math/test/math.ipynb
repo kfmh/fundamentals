{
 "cells": [
  {
   "cell_type": "code",
   "execution_count": 5,
   "metadata": {},
   "outputs": [
    {
     "name": "stdout",
     "output_type": "stream",
     "text": [
      "This is a Caesar Cipher, and it is one of the earliest and simplest methods of encryption technique\n"
     ]
    }
   ],
   "source": [
    "# from doors import Countdonw_Threade, Cicada_13\n",
    "\n",
    "# Cicada_13.game_rules()\n",
    "\n",
    "\n",
    "clues = {\n",
    "    1: \"This is a Caesar Cipher, and it is one of the earliest and simplest methods of encryption technique\",\n",
    "    2: \"A Caesar Cipher a type of substitution cipher\",\n",
    "    3: \"Each letter of a given text is replaced by a \\nletter with a fixed number of positions down the alphabet\",\n",
    "}\n",
    "\n",
    "print(clues[1])"
   ]
  },
  {
   "cell_type": "code",
   "execution_count": 2,
   "metadata": {},
   "outputs": [
    {
     "data": {
      "text/plain": [
       "'HLAKNF'"
      ]
     },
     "execution_count": 2,
     "metadata": {},
     "output_type": "execute_result"
    }
   ],
   "source": []
  }
 ],
 "metadata": {
  "kernelspec": {
   "display_name": ".venv",
   "language": "python",
   "name": "python3"
  },
  "language_info": {
   "codemirror_mode": {
    "name": "ipython",
    "version": 3
   },
   "file_extension": ".py",
   "mimetype": "text/x-python",
   "name": "python",
   "nbconvert_exporter": "python",
   "pygments_lexer": "ipython3",
   "version": "3.11.4"
  },
  "orig_nbformat": 4
 },
 "nbformat": 4,
 "nbformat_minor": 2
}
