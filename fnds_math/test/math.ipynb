{
 "cells": [
  {
   "cell_type": "code",
   "execution_count": null,
   "metadata": {},
   "outputs": [],
   "source": [
    "import os\n",
    "from rich import print as p\n",
    "from rich.console import Console\n",
    "from rich.traceback import install\n",
    "install()\n",
    "from time import sleep\n",
    "import random\n",
    "\n",
    "a, b = 0, 0\n",
    "def random_a_b_int():\n",
    "    a_new = random.randint(1, 9)\n",
    "    b_new = random.randint(1, 9)\n",
    "    if a_new != a | b_new != b:\n",
    "        sum = a_new + b_new\n",
    "        a, b = a_new, b_new\n",
    "    return sum, a, b"
   ]
  },
  {
   "cell_type": "code",
   "execution_count": 77,
   "metadata": {},
   "outputs": [
    {
     "name": "stdout",
     "output_type": "stream",
     "text": [
      "Sum: 10, New a: 8, New b: 2\n"
     ]
    }
   ],
   "source": [
    "import random\n",
    "\n",
    "a, b = 0, 0\n",
    "a_new, b_new = 0, 0\n",
    "def random_a_b_int():\n",
    "    global a, b  # Declare 'a' and 'b' as global variables\n",
    "    global a_new, b_new\n",
    "\n",
    "    while a_new == a and b_new == b:\n",
    "        a_new = random.randint(1, 9)\n",
    "        b_new = random.randint(1, 9)\n",
    "        sum_result = a_new + b_new\n",
    "\n",
    "    a, b = a_new, b_new\n",
    "\n",
    "    return sum_result, a, b\n",
    "\n",
    "result, new_a, new_b = random_a_b_int()\n",
    "\n",
    "print(f\"Sum: {result}, New a: {new_a}, New b: {new_b}\")"
   ]
  },
  {
   "cell_type": "code",
   "execution_count": null,
   "metadata": {},
   "outputs": [],
   "source": []
  },
  {
   "cell_type": "code",
   "execution_count": 8,
   "metadata": {},
   "outputs": [
    {
     "ename": "UnboundLocalError",
     "evalue": "cannot access local variable 'a' where it is not associated with a value",
     "output_type": "error",
     "traceback": [
      "\u001b[0;31m---------------------------------------------------------------------------\u001b[0m",
      "\u001b[0;31mUnboundLocalError\u001b[0m                         Traceback (most recent call last)",
      "Cell \u001b[0;32mIn[8], line 46\u001b[0m\n\u001b[1;32m     43\u001b[0m         sleep(\u001b[39m1\u001b[39m)\n\u001b[1;32m     45\u001b[0m \u001b[39mif\u001b[39;00m \u001b[39m__name__\u001b[39m \u001b[39m==\u001b[39m \u001b[39m\"\u001b[39m\u001b[39m__main__\u001b[39m\u001b[39m\"\u001b[39m:\n\u001b[0;32m---> 46\u001b[0m     main()\n",
      "Cell \u001b[0;32mIn[8], line 21\u001b[0m, in \u001b[0;36mmain\u001b[0;34m()\u001b[0m\n\u001b[1;32m     19\u001b[0m score \u001b[39m=\u001b[39m \u001b[39m0\u001b[39m\n\u001b[1;32m     20\u001b[0m \u001b[39mwhile\u001b[39;00m response \u001b[39m!=\u001b[39m \u001b[39m\"\u001b[39m\u001b[39mquit\u001b[39m\u001b[39m\"\u001b[39m:\n\u001b[0;32m---> 21\u001b[0m     correct, a_, b_ \u001b[39m=\u001b[39m random_a_b_int()\n\u001b[1;32m     23\u001b[0m     os\u001b[39m.\u001b[39msystem(\u001b[39m'\u001b[39m\u001b[39mclear\u001b[39m\u001b[39m'\u001b[39m)\n\u001b[1;32m     24\u001b[0m     p(\u001b[39mf\u001b[39m\u001b[39m\"\u001b[39m\u001b[39mscore = \u001b[39m\u001b[39m{\u001b[39;00mscore\u001b[39m}\u001b[39;00m\u001b[39m\\n\u001b[39;00m\u001b[39m\\\u001b[39;00m\n\u001b[1;32m     25\u001b[0m \u001b[39m    What is the sum of \u001b[39m\u001b[39m\\n\u001b[39;00m\u001b[39m\\\u001b[39;00m\n\u001b[1;32m     26\u001b[0m \u001b[39m    \u001b[39m\u001b[39m{\u001b[39;00ma_\u001b[39m}\u001b[39;00m\u001b[39m\\\u001b[39;00m\n\u001b[1;32m     27\u001b[0m \u001b[39m    + \u001b[39m\u001b[39m{\u001b[39;00mb_\u001b[39m}\u001b[39;00m\u001b[39m\\n\u001b[39;00m\u001b[39m\\n\u001b[39;00m\u001b[39m\\\u001b[39;00m\n\u001b[1;32m     28\u001b[0m \u001b[39m    quit = quit\u001b[39m\u001b[39m\"\u001b[39m)\n",
      "Cell \u001b[0;32mIn[8], line 12\u001b[0m, in \u001b[0;36mrandom_a_b_int\u001b[0;34m()\u001b[0m\n\u001b[1;32m     10\u001b[0m a_new \u001b[39m=\u001b[39m random\u001b[39m.\u001b[39mrandint(\u001b[39m1\u001b[39m, \u001b[39m9\u001b[39m)\n\u001b[1;32m     11\u001b[0m b_new \u001b[39m=\u001b[39m random\u001b[39m.\u001b[39mrandint(\u001b[39m1\u001b[39m, \u001b[39m9\u001b[39m)\n\u001b[0;32m---> 12\u001b[0m \u001b[39mif\u001b[39;00m a_new \u001b[39m!=\u001b[39m a \u001b[39m|\u001b[39m b_new \u001b[39m!=\u001b[39m b:\n\u001b[1;32m     13\u001b[0m     \u001b[39msum\u001b[39m \u001b[39m=\u001b[39m a_new \u001b[39m+\u001b[39m b_new\n\u001b[1;32m     14\u001b[0m     a, b \u001b[39m=\u001b[39m a_new, b_new\n",
      "\u001b[0;31mUnboundLocalError\u001b[0m: cannot access local variable 'a' where it is not associated with a value"
     ]
    }
   ],
   "source": [
    "import os\n",
    "from rich import print as p\n",
    "from rich.console import Console\n",
    "from rich.traceback import install\n",
    "install()\n",
    "from time import sleep\n",
    "import random\n",
    "\n",
    "a, b = 0, 0\n",
    "def random_a_b_int():\n",
    "    a_new = random.randint(1, 9)\n",
    "    b_new = random.randint(1, 9)\n",
    "    if a_new != a | b_new != b:\n",
    "        sum = a_new + b_new\n",
    "        a, b = a_new, b_new\n",
    "    return sum, a, b\n",
    "\n",
    "def main():\n",
    "    response = \"run\"\n",
    "    score = 0\n",
    "    while response != \"quit\":\n",
    "        correct, a_, b_ = random_a_b_int()\n",
    "\n",
    "        os.system('clear')\n",
    "        p(f\"score = {score}\\n\\\n",
    "        What is the sum of \\n\\\n",
    "        {a_}\\\n",
    "        + {b_}\\n\\n\\\n",
    "        quit = quit\")\n",
    "\n",
    "        response = input()\n",
    "        if response == \"quit\":\n",
    "            os.system('clear')\n",
    "            p(f\"Your score is {score}\")\n",
    "            break\n",
    "        #if answers_dict[response] == correct:\n",
    "        if int(response) == correct:\n",
    "            os.system('clear')\n",
    "            p('correct')\n",
    "            score += 1\n",
    "        else:\n",
    "            os.system('clear')\n",
    "            p('try again')\n",
    "        sleep(1)\n",
    "\n",
    "if __name__ == \"__main__\":\n",
    "    main()"
   ]
  },
  {
   "cell_type": "code",
   "execution_count": null,
   "metadata": {},
   "outputs": [],
   "source": [
    "import random\n",
    "\n",
    "class RandomABIntGenerator:\n",
    "    def __init__(self):\n",
    "        self.answers_list = {}\n",
    "    \n",
    "    def generate(self):\n",
    "        while len(self.answers_list) < 4:\n",
    "            a = random.randint(1, 9)\n",
    "            b = random.randint(1, 9)\n",
    "            total = a + b\n",
    "            if total not in self.answers_list:\n",
    "                if len(self.answers_list) == 0:\n",
    "                    correct = total\n",
    "                self.answers_list[total] = [a, b]\n",
    "    \n",
    "    def get_answers_list(self):\n",
    "        return self.answers_list\n",
    "\n",
    "# Create an instance of the RandomABIntGenerator class\n",
    "generator = RandomABIntGenerator()\n",
    "\n",
    "# Generate the answers list\n",
    "generator.generate()\n",
    "\n",
    "# Get the generated answers list\n",
    "answers_list = generator.get_answers_list()\n",
    "print(answers_list)\n"
   ]
  },
  {
   "cell_type": "code",
   "execution_count": null,
   "metadata": {},
   "outputs": [],
   "source": []
  }
 ],
 "metadata": {
  "kernelspec": {
   "display_name": ".venv",
   "language": "python",
   "name": "python3"
  },
  "language_info": {
   "codemirror_mode": {
    "name": "ipython",
    "version": 3
   },
   "file_extension": ".py",
   "mimetype": "text/x-python",
   "name": "python",
   "nbconvert_exporter": "python",
   "pygments_lexer": "ipython3",
   "version": "3.11.4"
  },
  "orig_nbformat": 4
 },
 "nbformat": 4,
 "nbformat_minor": 2
}
