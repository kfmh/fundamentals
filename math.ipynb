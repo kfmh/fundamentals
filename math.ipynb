{
 "cells": [
  {
   "cell_type": "code",
   "execution_count": 4,
   "metadata": {},
   "outputs": [
    {
     "name": "stdout",
     "output_type": "stream",
     "text": [
      "you anserd 69\n"
     ]
    }
   ],
   "source": [
    "import math\n",
    "\n",
    "# Loop that runs the program till quit\n",
    "\n",
    "# White input != \"quit\"\n",
    "\n",
    "# Generate a = random int 1-9\n",
    "\n",
    "# Generate b = random int 1-9\n",
    "\n",
    "# Generate random float 0-1, \n",
    "# if > 0.5 -> correct = a+b \n",
    "# else correct = a-b\n",
    "\n",
    "# for loop \n",
    "# generate 3 wrong answers, \n",
    "# store in 3 variables. \n",
    "\n",
    "# ask user to pick correct answer\n",
    "\n",
    "# while user is still thinking \n",
    "# count time it takes to answer and store in = time\n",
    "\n",
    "# if correct = answer count score\n",
    "# else try again\n",
    "\n",
    "# store correct anser and time in json dict\n"
   ]
  }
 ],
 "metadata": {
  "kernelspec": {
   "display_name": ".venv",
   "language": "python",
   "name": "python3"
  },
  "language_info": {
   "codemirror_mode": {
    "name": "ipython",
    "version": 3
   },
   "file_extension": ".py",
   "mimetype": "text/x-python",
   "name": "python",
   "nbconvert_exporter": "python",
   "pygments_lexer": "ipython3",
   "version": "3.11.3"
  },
  "orig_nbformat": 4
 },
 "nbformat": 4,
 "nbformat_minor": 2
}
