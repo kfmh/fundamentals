{
 "cells": [
  {
   "cell_type": "code",
   "execution_count": 65,
   "metadata": {},
   "outputs": [
    {
     "data": {
      "text/html": [
       "<pre style=\"white-space:pre;overflow-x:auto;line-height:normal;font-family:Menlo,'DejaVu Sans Mono',consolas,'Courier New',monospace\">What is the sum\n",
       "<span style=\"color: #008080; text-decoration-color: #008080; font-weight: bold\">9</span> + <span style=\"color: #008080; text-decoration-color: #008080; font-weight: bold\">6</span> = ?\n",
       "</pre>\n"
      ],
      "text/plain": [
       "What is the sum\n",
       "\u001b[1;36m9\u001b[0m + \u001b[1;36m6\u001b[0m = ?\n"
      ]
     },
     "metadata": {},
     "output_type": "display_data"
    },
    {
     "data": {
      "text/html": [
       "<pre style=\"white-space:pre;overflow-x:auto;line-height:normal;font-family:Menlo,'DejaVu Sans Mono',consolas,'Courier New',monospace\">a = <span style=\"color: #008080; text-decoration-color: #008080; font-weight: bold\">8</span>\n",
       "b = <span style=\"color: #008080; text-decoration-color: #008080; font-weight: bold\">8</span>\n",
       "c = <span style=\"color: #008080; text-decoration-color: #008080; font-weight: bold\">9</span>\n",
       "d = <span style=\"color: #008080; text-decoration-color: #008080; font-weight: bold\">15</span>\n",
       "</pre>\n"
      ],
      "text/plain": [
       "a = \u001b[1;36m8\u001b[0m\n",
       "b = \u001b[1;36m8\u001b[0m\n",
       "c = \u001b[1;36m9\u001b[0m\n",
       "d = \u001b[1;36m15\u001b[0m\n"
      ]
     },
     "metadata": {},
     "output_type": "display_data"
    }
   ],
   "source": [
    "import random\n",
    "from rich import print as p\n",
    "from rich.console import Console\n",
    "from rich.traceback import install\n",
    "install()\n",
    "\n"
   ]
  },
  {
   "cell_type": "code",
   "execution_count": 207,
   "metadata": {},
   "outputs": [],
   "source": [
    "def random_ab_int():\n",
    "    answers_list = {}\n",
    "    while len(answers_list) < 4:\n",
    "        a = random.randint(1, 9)\n",
    "        b = random.randint(1, 9)\n",
    "        sum = a + b\n",
    "        if sum not in answers_list.keys():\n",
    "            if len(answers_list) == 0:\n",
    "                correct = sum\n",
    "            answers_list[sum] = [a, b]\n",
    "\n",
    "    return answers_list, correct\n"
   ]
  },
  {
   "cell_type": "code",
   "execution_count": 218,
   "metadata": {},
   "outputs": [
    {
     "data": {
      "text/html": [
       "<pre style=\"white-space:pre;overflow-x:auto;line-height:normal;font-family:Menlo,'DejaVu Sans Mono',consolas,'Courier New',monospace\">What is the sum of \n",
       "<span style=\"color: #008080; text-decoration-color: #008080; font-weight: bold\">2</span> + <span style=\"color: #008080; text-decoration-color: #008080; font-weight: bold\">2</span>\n",
       "\n",
       "a = <span style=\"color: #008080; text-decoration-color: #008080; font-weight: bold\">4</span>\n",
       "b = <span style=\"color: #008080; text-decoration-color: #008080; font-weight: bold\">9</span>\n",
       "c = <span style=\"color: #008080; text-decoration-color: #008080; font-weight: bold\">3</span>\n",
       "d = <span style=\"color: #008080; text-decoration-color: #008080; font-weight: bold\">17</span>\n",
       "</pre>\n"
      ],
      "text/plain": [
       "What is the sum of \n",
       "\u001b[1;36m2\u001b[0m + \u001b[1;36m2\u001b[0m\n",
       "\n",
       "a = \u001b[1;36m4\u001b[0m\n",
       "b = \u001b[1;36m9\u001b[0m\n",
       "c = \u001b[1;36m3\u001b[0m\n",
       "d = \u001b[1;36m17\u001b[0m\n"
      ]
     },
     "metadata": {},
     "output_type": "display_data"
    },
    {
     "data": {
      "text/html": [
       "<pre style=\"white-space:pre;overflow-x:auto;line-height:normal;font-family:Menlo,'DejaVu Sans Mono',consolas,'Courier New',monospace\">correct\n",
       "</pre>\n"
      ],
      "text/plain": [
       "correct\n"
      ]
     },
     "metadata": {},
     "output_type": "display_data"
    }
   ],
   "source": [
    "numbers_dict, correct = random_ab_int()\n",
    "\n",
    "answers = list(numbers_dict.keys())\n",
    "answers_dict = {'a': answers[0], 'b': answers[1], 'c': answers[2], 'd': answers[3]}\n",
    "correct_numbers = numbers_dict[correct]\n",
    "\n",
    "\n",
    "p(f\"What is the sum of \\n\\\n",
    "{numbers_dict[correct][0]} + {numbers_dict[correct][1]}\\n\\n\\\n",
    "a = {answers_dict['a']}\\n\\\n",
    "b = {answers_dict['b']}\\n\\\n",
    "c = {answers_dict['c']}\\n\\\n",
    "d = {answers_dict['d']}\")\n",
    "\n",
    "response = input()\n",
    "if answers_dict[response] == correct:\n",
    "    p('correct')\n",
    "else:\n",
    "    p('try again')"
   ]
  }
 ],
 "metadata": {
  "kernelspec": {
   "display_name": ".venv",
   "language": "python",
   "name": "python3"
  },
  "language_info": {
   "codemirror_mode": {
    "name": "ipython",
    "version": 3
   },
   "file_extension": ".py",
   "mimetype": "text/x-python",
   "name": "python",
   "nbconvert_exporter": "python",
   "pygments_lexer": "ipython3",
   "version": "3.11.3"
  },
  "orig_nbformat": 4
 },
 "nbformat": 4,
 "nbformat_minor": 2
}
