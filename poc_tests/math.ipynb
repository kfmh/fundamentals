{
 "cells": [
  {
   "cell_type": "code",
   "execution_count": 10,
   "metadata": {},
   "outputs": [
    {
     "data": {
      "text/plain": [
       "<bound method InteractiveShell.excepthook of <ipykernel.zmqshell.ZMQInteractiveShell object at 0x107ca9110>>"
      ]
     },
     "execution_count": 10,
     "metadata": {},
     "output_type": "execute_result"
    }
   ],
   "source": [
    "import random\n",
    "import os\n",
    "from rich import print as p\n",
    "from rich.console import Console\n",
    "from rich.traceback import install\n",
    "install()"
   ]
  },
  {
   "cell_type": "code",
   "execution_count": 2,
   "metadata": {},
   "outputs": [],
   "source": [
    "def random_ab_int():\n",
    "    answers_list = {}\n",
    "    while len(answers_list) < 4:\n",
    "        a = random.randint(1, 9)\n",
    "        b = random.randint(1, 9)\n",
    "        sum = a + b\n",
    "        if sum not in answers_list.keys():\n",
    "            if len(answers_list) == 0:\n",
    "                correct = sum\n",
    "            answers_list[sum] = [a, b]\n",
    "\n",
    "    return answers_list, correct\n"
   ]
  },
  {
   "cell_type": "code",
   "execution_count": 12,
   "metadata": {},
   "outputs": [
    {
     "data": {
      "text/html": [
       "<pre style=\"white-space:pre;overflow-x:auto;line-height:normal;font-family:Menlo,'DejaVu Sans Mono',consolas,'Courier New',monospace\">What is the sum of \n",
       "    <span style=\"color: #008080; text-decoration-color: #008080; font-weight: bold\">1</span>    + <span style=\"color: #008080; text-decoration-color: #008080; font-weight: bold\">5</span>\n",
       "\n",
       "    a = <span style=\"color: #008080; text-decoration-color: #008080; font-weight: bold\">11</span>\n",
       "    b = <span style=\"color: #008080; text-decoration-color: #008080; font-weight: bold\">6</span>\n",
       "    c = <span style=\"color: #008080; text-decoration-color: #008080; font-weight: bold\">10</span>\n",
       "    d = <span style=\"color: #008080; text-decoration-color: #008080; font-weight: bold\">14</span>\n",
       "    quit = quit\n",
       "</pre>\n"
      ],
      "text/plain": [
       "What is the sum of \n",
       "    \u001b[1;36m1\u001b[0m    + \u001b[1;36m5\u001b[0m\n",
       "\n",
       "    a = \u001b[1;36m11\u001b[0m\n",
       "    b = \u001b[1;36m6\u001b[0m\n",
       "    c = \u001b[1;36m10\u001b[0m\n",
       "    d = \u001b[1;36m14\u001b[0m\n",
       "    quit = quit\n"
      ]
     },
     "metadata": {},
     "output_type": "display_data"
    },
    {
     "data": {
      "text/html": [
       "<pre style=\"white-space:pre;overflow-x:auto;line-height:normal;font-family:Menlo,'DejaVu Sans Mono',consolas,'Courier New',monospace\">correct\n",
       "</pre>\n"
      ],
      "text/plain": [
       "correct\n"
      ]
     },
     "metadata": {},
     "output_type": "display_data"
    },
    {
     "name": "stdout",
     "output_type": "stream",
     "text": [
      "\u001b[H\u001b[2J"
     ]
    },
    {
     "data": {
      "text/html": [
       "<pre style=\"white-space:pre;overflow-x:auto;line-height:normal;font-family:Menlo,'DejaVu Sans Mono',consolas,'Courier New',monospace\">What is the sum of \n",
       "    <span style=\"color: #008080; text-decoration-color: #008080; font-weight: bold\">3</span>    + <span style=\"color: #008080; text-decoration-color: #008080; font-weight: bold\">7</span>\n",
       "\n",
       "    a = <span style=\"color: #008080; text-decoration-color: #008080; font-weight: bold\">9</span>\n",
       "    b = <span style=\"color: #008080; text-decoration-color: #008080; font-weight: bold\">10</span>\n",
       "    c = <span style=\"color: #008080; text-decoration-color: #008080; font-weight: bold\">13</span>\n",
       "    d = <span style=\"color: #008080; text-decoration-color: #008080; font-weight: bold\">5</span>\n",
       "    quit = quit\n",
       "</pre>\n"
      ],
      "text/plain": [
       "What is the sum of \n",
       "    \u001b[1;36m3\u001b[0m    + \u001b[1;36m7\u001b[0m\n",
       "\n",
       "    a = \u001b[1;36m9\u001b[0m\n",
       "    b = \u001b[1;36m10\u001b[0m\n",
       "    c = \u001b[1;36m13\u001b[0m\n",
       "    d = \u001b[1;36m5\u001b[0m\n",
       "    quit = quit\n"
      ]
     },
     "metadata": {},
     "output_type": "display_data"
    },
    {
     "data": {
      "text/html": [
       "<pre style=\"white-space:pre;overflow-x:auto;line-height:normal;font-family:Menlo,'DejaVu Sans Mono',consolas,'Courier New',monospace\">correct\n",
       "</pre>\n"
      ],
      "text/plain": [
       "correct\n"
      ]
     },
     "metadata": {},
     "output_type": "display_data"
    },
    {
     "name": "stdout",
     "output_type": "stream",
     "text": [
      "\u001b[H\u001b[2J"
     ]
    },
    {
     "data": {
      "text/html": [
       "<pre style=\"white-space:pre;overflow-x:auto;line-height:normal;font-family:Menlo,'DejaVu Sans Mono',consolas,'Courier New',monospace\">What is the sum of \n",
       "    <span style=\"color: #008080; text-decoration-color: #008080; font-weight: bold\">9</span>    + <span style=\"color: #008080; text-decoration-color: #008080; font-weight: bold\">2</span>\n",
       "\n",
       "    a = <span style=\"color: #008080; text-decoration-color: #008080; font-weight: bold\">6</span>\n",
       "    b = <span style=\"color: #008080; text-decoration-color: #008080; font-weight: bold\">11</span>\n",
       "    c = <span style=\"color: #008080; text-decoration-color: #008080; font-weight: bold\">14</span>\n",
       "    d = <span style=\"color: #008080; text-decoration-color: #008080; font-weight: bold\">8</span>\n",
       "    quit = quit\n",
       "</pre>\n"
      ],
      "text/plain": [
       "What is the sum of \n",
       "    \u001b[1;36m9\u001b[0m    + \u001b[1;36m2\u001b[0m\n",
       "\n",
       "    a = \u001b[1;36m6\u001b[0m\n",
       "    b = \u001b[1;36m11\u001b[0m\n",
       "    c = \u001b[1;36m14\u001b[0m\n",
       "    d = \u001b[1;36m8\u001b[0m\n",
       "    quit = quit\n"
      ]
     },
     "metadata": {},
     "output_type": "display_data"
    },
    {
     "data": {
      "text/html": [
       "<pre style=\"white-space:pre;overflow-x:auto;line-height:normal;font-family:Menlo,'DejaVu Sans Mono',consolas,'Courier New',monospace\">Your score is <span style=\"color: #008080; text-decoration-color: #008080; font-weight: bold\">2</span>\n",
       "</pre>\n"
      ],
      "text/plain": [
       "Your score is \u001b[1;36m2\u001b[0m\n"
      ]
     },
     "metadata": {},
     "output_type": "display_data"
    }
   ],
   "source": [
    "response = \"run\"\n",
    "score = 0\n",
    "while response != \"quit\":\n",
    "    numbers_dict, correct = random_ab_int()\n",
    "    answers = list(numbers_dict.keys())\n",
    "    random.shuffle(answers)\n",
    "    answers_dict = {'a': answers[0], 'b': answers[1], 'c': answers[2], 'd': answers[3]}\n",
    "    correct_numbers = numbers_dict[correct]\n",
    "\n",
    "    p(f\"What is the sum of \\n\\\n",
    "    {numbers_dict[correct][0]}\\\n",
    "    + {numbers_dict[correct][1]}\\n\\n\\\n",
    "    a = {answers_dict['a']}\\n\\\n",
    "    b = {answers_dict['b']}\\n\\\n",
    "    c = {answers_dict['c']}\\n\\\n",
    "    d = {answers_dict['d']}\\n\\\n",
    "    quit = quit\")\n",
    "\n",
    "    response = input()\n",
    "    if response == \"quit\":\n",
    "        p(f\"Your score is {score}\")\n",
    "        break\n",
    "    if answers_dict[response] == correct:\n",
    "        p('correct')\n",
    "        score += 1\n",
    "        os.system('clear')\n",
    "    else:\n",
    "        p('try again')"
   ]
  },
  {
   "cell_type": "code",
   "execution_count": null,
   "metadata": {},
   "outputs": [],
   "source": [
    "response = \"run\"\n",
    "score = 0\n",
    "while response != \"quit\":\n",
    "    numbers_dict, correct = random_ab_int()\n",
    "#   answers = list(numbers_dict.keys())\n",
    "#   random.shuffle(answers)\n",
    "#   answers_dict = {'a': answers[0], 'b': answers[1], 'c': answers[2], 'd': answers[3]}\n",
    "#   correct_numbers = numbers_dict[correct]\n",
    "\n",
    "    os.system('clear')\n",
    "    p(f\"score = {score}\\n\\\n",
    "    What is the sum of \\n\\\n",
    "    {numbers_dict[correct][0]}\\\n",
    "    + {numbers_dict[correct][1]}\\n\\n\\\n",
    "    quit = quit\")\n",
    "\n",
    "    response = input()\n",
    "    if response == \"quit\":\n",
    "        os.system('clear')\n",
    "        p(f\"Your score is {score}\")\n",
    "        break\n",
    "    #if answers_dict[response] == correct:\n",
    "    if int(response) == correct:\n",
    "        os.system('clear')\n",
    "        p('correct')\n",
    "        score += 1\n",
    "    else:\n",
    "        os.system('clear')\n",
    "        p('try again')\n",
    "    sleep(1)"
   ]
  }
 ],
 "metadata": {
  "kernelspec": {
   "display_name": ".venv",
   "language": "python",
   "name": "python3"
  },
  "language_info": {
   "codemirror_mode": {
    "name": "ipython",
    "version": 3
   },
   "file_extension": ".py",
   "mimetype": "text/x-python",
   "name": "python",
   "nbconvert_exporter": "python",
   "pygments_lexer": "ipython3",
   "version": "3.11.3"
  },
  "orig_nbformat": 4
 },
 "nbformat": 4,
 "nbformat_minor": 2
}
