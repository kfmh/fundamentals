{
 "cells": [
  {
   "cell_type": "code",
   "execution_count": 8,
   "metadata": {},
   "outputs": [],
   "source": [
    "import os\n",
    "import csv\n",
    "import pandas as pd\n",
    "\n",
    "class User:\n",
    "    def __init__(self, username):\n",
    "        self.username = username\n",
    "        self.filename = f\"{self.username}.csv\"\n",
    "        \n",
    "        # Check if the CSV file exists\n",
    "        # script_directory = os.path.dirname(os.path.abspath(__file__))\n",
    "        # csv_path = os.path.join(script_directory, f\"{self.username}.csv\")\n",
    "        csv_path = './kalle.csv'\n",
    "        if not os.path.exists(csv_path):\n",
    "            # Create the CSV file with headers if it doesn't exist\n",
    "            with open(csv_path, 'w', newline='') as csvfile:\n",
    "                writer = csv.writer(csvfile)\n",
    "                writer.writerow(['response_stime', 'correct'])\n",
    "\n",
    "        self.csv = pd.read_csv(csv_path)\n",
    "\n",
    "    def append_to_csv(self, response_stime, correct):\n",
    "        csv_path = './kalle.csv'\n",
    "        with open(csv_path, 'a', newline='') as csvfile:\n",
    "            writer = csv.writer(csvfile)\n",
    "            writer.writerow([response_stime, correct])\n",
    "    \n",
    "    def score_count(self):\n",
    "        \"\"\"\n",
    "        Returns:\n",
    "        - Series: A pandas Series containing the counts of each unique value in the binary column.\n",
    "        \"\"\"\n",
    "        # Using the value_counts() method on the specific column\n",
    "        return self.csv['correct'].value_counts().iloc[0]\n"
   ]
  },
  {
   "cell_type": "code",
   "execution_count": 10,
   "metadata": {},
   "outputs": [
    {
     "name": "stdout",
     "output_type": "stream",
     "text": [
      "14\n"
     ]
    }
   ],
   "source": [
    "us = User('kalle')\n",
    "\n",
    "us.score_count()"
   ]
  }
 ],
 "metadata": {
  "kernelspec": {
   "display_name": ".env",
   "language": "python",
   "name": "python3"
  },
  "language_info": {
   "codemirror_mode": {
    "name": "ipython",
    "version": 3
   },
   "file_extension": ".py",
   "mimetype": "text/x-python",
   "name": "python",
   "nbconvert_exporter": "python",
   "pygments_lexer": "ipython3",
   "version": "3.11.3"
  },
  "orig_nbformat": 4
 },
 "nbformat": 4,
 "nbformat_minor": 2
}
